{
 "cells": [
  {
   "cell_type": "code",
   "execution_count": 12,
   "metadata": {},
   "outputs": [],
   "source": [
    "import os\n",
    "import json\n",
    "import shutil\n",
    "# root = \"data/textfiles/\"\n",
    "root = \"data/textfiles_redone/\""
   ]
  },
  {
   "cell_type": "code",
   "execution_count": 13,
   "metadata": {},
   "outputs": [
    {
     "name": "stdout",
     "output_type": "stream",
     "text": [
      "10-tips-unplug-vacation.json\n"
     ]
    },
    {
     "ename": "OSError",
     "evalue": "[Errno 22] Invalid argument: 'data/raw_text_redone/'",
     "output_type": "error",
     "traceback": [
      "\u001b[1;31m---------------------------------------------------------------------------\u001b[0m",
      "\u001b[1;31mOSError\u001b[0m                                   Traceback (most recent call last)",
      "Cell \u001b[1;32mIn[13], line 15\u001b[0m\n\u001b[0;32m     13\u001b[0m \u001b[38;5;28;01mif\u001b[39;00m data[\u001b[38;5;124m\"\u001b[39m\u001b[38;5;124mtext\u001b[39m\u001b[38;5;124m\"\u001b[39m][:\u001b[38;5;241m6\u001b[39m] \u001b[38;5;241m!=\u001b[39m \u001b[38;5;124m\"\u001b[39m\u001b[38;5;124mERROR:\u001b[39m\u001b[38;5;124m\"\u001b[39m:\n\u001b[0;32m     14\u001b[0m     num_real_files \u001b[38;5;241m+\u001b[39m\u001b[38;5;241m=\u001b[39m \u001b[38;5;241m1\u001b[39m\n\u001b[1;32m---> 15\u001b[0m     \u001b[43mshutil\u001b[49m\u001b[38;5;241;43m.\u001b[39;49m\u001b[43mcopy\u001b[49m\u001b[43m(\u001b[49m\u001b[43mroot\u001b[49m\u001b[43m \u001b[49m\u001b[38;5;241;43m+\u001b[39;49m\u001b[43m \u001b[49m\u001b[43mtextfile\u001b[49m\u001b[43m \u001b[49m\u001b[38;5;241;43m+\u001b[39;49m\u001b[43m \u001b[49m\u001b[38;5;124;43m\"\u001b[39;49m\u001b[38;5;124;43m/\u001b[39;49m\u001b[38;5;124;43m\"\u001b[39;49m\u001b[43m \u001b[49m\u001b[38;5;241;43m+\u001b[39;49m\u001b[43m \u001b[49m\u001b[43minner\u001b[49m\u001b[43m,\u001b[49m\u001b[43m \u001b[49m\u001b[38;5;124;43m\"\u001b[39;49m\u001b[38;5;124;43mdata/raw_text_redone/\u001b[39;49m\u001b[38;5;124;43m\"\u001b[39;49m\u001b[43m)\u001b[49m\n\u001b[0;32m     16\u001b[0m     \u001b[38;5;66;03m# with open(\"data/raw_text/\" + inner[:-5] + \".txt\", \"w\", encoding=\"utf8\") as output_text_file:\u001b[39;00m\n\u001b[0;32m     17\u001b[0m     \u001b[38;5;28;01mwith\u001b[39;00m \u001b[38;5;28mopen\u001b[39m(\u001b[38;5;124m\"\u001b[39m\u001b[38;5;124mdata/raw_text_redone/\u001b[39m\u001b[38;5;124m\"\u001b[39m \u001b[38;5;241m+\u001b[39m inner[:\u001b[38;5;241m-\u001b[39m\u001b[38;5;241m5\u001b[39m] \u001b[38;5;241m+\u001b[39m \u001b[38;5;124m\"\u001b[39m\u001b[38;5;124m.txt\u001b[39m\u001b[38;5;124m\"\u001b[39m, \u001b[38;5;124m\"\u001b[39m\u001b[38;5;124mw\u001b[39m\u001b[38;5;124m\"\u001b[39m, encoding\u001b[38;5;241m=\u001b[39m\u001b[38;5;124m\"\u001b[39m\u001b[38;5;124mutf8\u001b[39m\u001b[38;5;124m\"\u001b[39m) \u001b[38;5;28;01mas\u001b[39;00m output_text_file:\n",
      "File \u001b[1;32mC:\\Program Files\\WindowsApps\\PythonSoftwareFoundation.Python.3.10_3.10.3056.0_x64__qbz5n2kfra8p0\\lib\\shutil.py:417\u001b[0m, in \u001b[0;36mcopy\u001b[1;34m(src, dst, follow_symlinks)\u001b[0m\n\u001b[0;32m    415\u001b[0m \u001b[38;5;28;01mif\u001b[39;00m os\u001b[38;5;241m.\u001b[39mpath\u001b[38;5;241m.\u001b[39misdir(dst):\n\u001b[0;32m    416\u001b[0m     dst \u001b[38;5;241m=\u001b[39m os\u001b[38;5;241m.\u001b[39mpath\u001b[38;5;241m.\u001b[39mjoin(dst, os\u001b[38;5;241m.\u001b[39mpath\u001b[38;5;241m.\u001b[39mbasename(src))\n\u001b[1;32m--> 417\u001b[0m \u001b[43mcopyfile\u001b[49m\u001b[43m(\u001b[49m\u001b[43msrc\u001b[49m\u001b[43m,\u001b[49m\u001b[43m \u001b[49m\u001b[43mdst\u001b[49m\u001b[43m,\u001b[49m\u001b[43m \u001b[49m\u001b[43mfollow_symlinks\u001b[49m\u001b[38;5;241;43m=\u001b[39;49m\u001b[43mfollow_symlinks\u001b[49m\u001b[43m)\u001b[49m\n\u001b[0;32m    418\u001b[0m copymode(src, dst, follow_symlinks\u001b[38;5;241m=\u001b[39mfollow_symlinks)\n\u001b[0;32m    419\u001b[0m \u001b[38;5;28;01mreturn\u001b[39;00m dst\n",
      "File \u001b[1;32mC:\\Program Files\\WindowsApps\\PythonSoftwareFoundation.Python.3.10_3.10.3056.0_x64__qbz5n2kfra8p0\\lib\\shutil.py:256\u001b[0m, in \u001b[0;36mcopyfile\u001b[1;34m(src, dst, follow_symlinks)\u001b[0m\n\u001b[0;32m    254\u001b[0m \u001b[38;5;28;01mwith\u001b[39;00m \u001b[38;5;28mopen\u001b[39m(src, \u001b[38;5;124m'\u001b[39m\u001b[38;5;124mrb\u001b[39m\u001b[38;5;124m'\u001b[39m) \u001b[38;5;28;01mas\u001b[39;00m fsrc:\n\u001b[0;32m    255\u001b[0m     \u001b[38;5;28;01mtry\u001b[39;00m:\n\u001b[1;32m--> 256\u001b[0m         \u001b[38;5;28;01mwith\u001b[39;00m \u001b[38;5;28;43mopen\u001b[39;49m\u001b[43m(\u001b[49m\u001b[43mdst\u001b[49m\u001b[43m,\u001b[49m\u001b[43m \u001b[49m\u001b[38;5;124;43m'\u001b[39;49m\u001b[38;5;124;43mwb\u001b[39;49m\u001b[38;5;124;43m'\u001b[39;49m\u001b[43m)\u001b[49m \u001b[38;5;28;01mas\u001b[39;00m fdst:\n\u001b[0;32m    257\u001b[0m             \u001b[38;5;66;03m# macOS\u001b[39;00m\n\u001b[0;32m    258\u001b[0m             \u001b[38;5;28;01mif\u001b[39;00m _HAS_FCOPYFILE:\n\u001b[0;32m    259\u001b[0m                 \u001b[38;5;28;01mtry\u001b[39;00m:\n",
      "\u001b[1;31mOSError\u001b[0m: [Errno 22] Invalid argument: 'data/raw_text_redone/'"
     ]
    }
   ],
   "source": [
    "# text_files = os.listdir(\"data/textfiles\")\n",
    "text_files = os.listdir(\"data/textfiles_redone\")\n",
    "\n",
    "num_real_files = 0\n",
    "\n",
    "for textfile in text_files:\n",
    "    innerfile = os.listdir(root + textfile)\n",
    "    for inner in innerfile:\n",
    "        if \".json\" in inner:\n",
    "            print(inner)\n",
    "            f = open(root + textfile + \"/\" + inner)\n",
    "            data = json.load(f)\n",
    "            if data[\"text\"][:6] != \"ERROR:\":\n",
    "                num_real_files += 1\n",
    "                # shutil.copy(root + textfile + \"/\" + inner, \"data/raw_text_redone/\")\n",
    "                # with open(\"data/raw_text/\" + inner[:-5] + \".txt\", \"w\", encoding=\"utf8\") as output_text_file:\n",
    "                with open(\"data/raw_text_redone/\" + inner[:-5] + \".txt\", \"w\", encoding=\"utf8\") as output_text_file:\n",
    "                    output_text_file.write(data[\"text\"].replace(\"| News Center\\nSkip to main navigation\\nSkip to main content\\nMENU\\nNews Center\\nMain navigation\\nCalendar\\nCategories\\nBusiness and Economic Development\\nCampus and Community\\nEarth and Environment\\nHealth and Medicine\\nScience and Technology\\nSociety and Culture\\nMedia Contacts\\nDaily Digest\\nWhistle\\nWhistle\\nWhistle archives\\nSocial Media\\nSubscribe\\nFeatured expert\\nFeatures\\nFeatures\\nFeatures Archive\\nFind an expert\\nSearch\\nSearch\\nBreadcrumb\\nHome\", \"\").replace(\"\\nCampus Map\\nGeneral\\nDirectory\\nEmployment\\nEmergency Information\\nLegal\\nEqual Opportunity, Nondiscrimination, and Anti-Harassment Policy\\nLegal & Privacy Information\\nHuman Trafficking Notice\\nTitle IX/Sexual Misconduct\\nHazing Public Disclosures\\nAccessibility\\nAccountability\\nAccreditation\\nReport Free Speech and Censorship Concern\\n\\u00a9 2024 Georgia Institute of\\nTechnology\\nGT LOGIN\\nResources\\nGeorgia Tech Resources\\nOffices and Departments\\nNews Center\\nCampus Calendar\\nSpecial Events\\nGreenBuzz\\nInstitute Communications\\nVisitor Resources\\nCampus Visits\\nDirections to Campus\\nVisitor Parking Information\\nGT visitor Wireless Network Information\\nGeorgia Tech Global Learning Center\\nGeorgia Tech Hotel and Conference Center\\nBarnes and Noble at Georgia Tech\\nFerst Center for the Arts\\nRobert C. Williams Paper Museum\\nColleges, Instructional Sites and Research\\nColleges\\nCollege of Computing\\nCollege of Design\\nCollege of Engineering\\nCollege of Sciences\\nIvan Allen College of Liberal Arts\\nScheller College of Business\\nInstructional Sites\\nGeorgia Tech-Europe\\nGeorgia Tech-Shenzhen\\nGeorgia Tech Online\\nProfessional Education\\nThe Language Institute\\nGlobal Footprint\\nGlobal Engagement\\nResearch\\nGeorgia Tech Research Institute\\nResearch at Georgia Tech\\nExecutive Vice President for Research\\nStudent and Parent Resources\\nStudent Resources\\nApply\\nBuzzPort\\nBuzzcard\\nCareer Center\\nCommencement\\nGraduate and Postdoctoral Information\\nUndergraduate Information\\nLibrary\\nStudent Life\\nStudent Entrepreneurship\\nEducation Abroad\\nCanvas\\nParent Resources\\nParent and Family Programs\\nDivision of Student Life\\nScholarships and Financial Aid\\nEmployee, Alumni, and Other Resources\\nEmployees\\nAdministration and Finance\\nAdvising and Teaching\\nFaculty Affairs\\nFaculty Hiring\\nPostdoctoral Services\\nHuman Resources\\nStaff Council\\nTechWorks\\nAlumni and Foundation\\nAlumni Association\\nAlumni Career Services\\nFoundation\\nGiving Back to Tech\\nOutreach\\nStartup Companies\\nEconomic Development\\nIndustry Engagement\\nInstitute Relations\\nProfessional Education\\n\\u2713 Thanks for sharing! AddToAny More\\u2026\", \"\").replace(\"\\nFacebook\\nTwitter\\nEmail\", \"\"))\n",
    "                output_text_file.close()\n",
    "\n",
    "print(num_real_files)"
   ]
  },
  {
   "cell_type": "code",
   "execution_count": null,
   "metadata": {},
   "outputs": [],
   "source": [
    "root = \"data/raw_text_redone/\"\n",
    "for file in os.listdir(root):\n",
    "    with open(root + file, 'r', encoding='utf8') as fin:\n",
    "        data = fin.read().splitlines(True)\n",
    "    with open(root + file, 'w', encoding=\"utf8\") as fout:\n",
    "        fout.writelines(data[1:])"
   ]
  }
 ],
 "metadata": {
  "kernelspec": {
   "display_name": "Python 3",
   "language": "python",
   "name": "python3"
  },
  "language_info": {
   "codemirror_mode": {
    "name": "ipython",
    "version": 3
   },
   "file_extension": ".py",
   "mimetype": "text/x-python",
   "name": "python",
   "nbconvert_exporter": "python",
   "pygments_lexer": "ipython3",
   "version": "3.10.11"
  }
 },
 "nbformat": 4,
 "nbformat_minor": 2
}
