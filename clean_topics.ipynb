{
 "cells": [
  {
   "cell_type": "code",
   "execution_count": 19,
   "metadata": {},
   "outputs": [],
   "source": [
    "import pandas as pd"
   ]
  },
  {
   "cell_type": "code",
   "execution_count": 20,
   "metadata": {},
   "outputs": [],
   "source": [
    "topics_cleaned = {}\n",
    "stem_articles = {}\n",
    "liberal_arts_articles = {}"
   ]
  },
  {
   "cell_type": "code",
   "execution_count": 21,
   "metadata": {},
   "outputs": [
    {
     "data": {
      "text/html": [
       "<div>\n",
       "<style scoped>\n",
       "    .dataframe tbody tr th:only-of-type {\n",
       "        vertical-align: middle;\n",
       "    }\n",
       "\n",
       "    .dataframe tbody tr th {\n",
       "        vertical-align: top;\n",
       "    }\n",
       "\n",
       "    .dataframe thead th {\n",
       "        text-align: right;\n",
       "    }\n",
       "</style>\n",
       "<table border=\"1\" class=\"dataframe\">\n",
       "  <thead>\n",
       "    <tr style=\"text-align: right;\">\n",
       "      <th></th>\n",
       "      <th>news_article</th>\n",
       "      <th>topic</th>\n",
       "    </tr>\n",
       "  </thead>\n",
       "  <tbody>\n",
       "    <tr>\n",
       "      <th>0</th>\n",
       "      <td>10-tips-unplug-vacation.txt</td>\n",
       "      <td>The news article is classified as (c) neither....</td>\n",
       "    </tr>\n",
       "    <tr>\n",
       "      <th>1</th>\n",
       "      <td>10-years-after-katrina-are-american-cities-rea...</td>\n",
       "      <td>The news article is related to disaster readin...</td>\n",
       "    </tr>\n",
       "    <tr>\n",
       "      <th>2</th>\n",
       "      <td>10-years-after-katrina-lessons-learned-lessons...</td>\n",
       "      <td>The news article is related to STEM (b) becaus...</td>\n",
       "    </tr>\n",
       "    <tr>\n",
       "      <th>3</th>\n",
       "      <td>100-campus-leaders-currently-engaged-2021-incl...</td>\n",
       "      <td>This news article falls under topic (a) libera...</td>\n",
       "    </tr>\n",
       "    <tr>\n",
       "      <th>4</th>\n",
       "      <td>100-students-faculty-and-staff-tour-civil-righ...</td>\n",
       "      <td>This news article falls under topic (a) libera...</td>\n",
       "    </tr>\n",
       "    <tr>\n",
       "      <th>...</th>\n",
       "      <td>...</td>\n",
       "      <td>...</td>\n",
       "    </tr>\n",
       "    <tr>\n",
       "      <th>1257</th>\n",
       "      <td>youll-never-dance-alone-artificial-intelligenc...</td>\n",
       "      <td>The news article is related to STEM (Science, ...</td>\n",
       "    </tr>\n",
       "    <tr>\n",
       "      <th>1258</th>\n",
       "      <td>zebrafish-cholera-bacterium-sets-surprising-fl...</td>\n",
       "      <td>The news article is related to STEM (Science, ...</td>\n",
       "    </tr>\n",
       "    <tr>\n",
       "      <th>1259</th>\n",
       "      <td>zhu-lab-explains-inhibitory-role-worlds-most-f...</td>\n",
       "      <td>Based on the text of the news article provided...</td>\n",
       "    </tr>\n",
       "    <tr>\n",
       "      <th>1260</th>\n",
       "      <td>zika-virus-southeast.txt</td>\n",
       "      <td>The news article is about the zika virus outbr...</td>\n",
       "    </tr>\n",
       "    <tr>\n",
       "      <th>1261</th>\n",
       "      <td>zipstring-founders-find-success-worlds-largest...</td>\n",
       "      <td>The news article is about the success of the z...</td>\n",
       "    </tr>\n",
       "  </tbody>\n",
       "</table>\n",
       "<p>1262 rows × 2 columns</p>\n",
       "</div>"
      ],
      "text/plain": [
       "                                           news_article   \n",
       "0                           10-tips-unplug-vacation.txt  \\\n",
       "1     10-years-after-katrina-are-american-cities-rea...   \n",
       "2     10-years-after-katrina-lessons-learned-lessons...   \n",
       "3     100-campus-leaders-currently-engaged-2021-incl...   \n",
       "4     100-students-faculty-and-staff-tour-civil-righ...   \n",
       "...                                                 ...   \n",
       "1257  youll-never-dance-alone-artificial-intelligenc...   \n",
       "1258  zebrafish-cholera-bacterium-sets-surprising-fl...   \n",
       "1259  zhu-lab-explains-inhibitory-role-worlds-most-f...   \n",
       "1260                           zika-virus-southeast.txt   \n",
       "1261  zipstring-founders-find-success-worlds-largest...   \n",
       "\n",
       "                                                  topic  \n",
       "0     The news article is classified as (c) neither....  \n",
       "1     The news article is related to disaster readin...  \n",
       "2     The news article is related to STEM (b) becaus...  \n",
       "3     This news article falls under topic (a) libera...  \n",
       "4     This news article falls under topic (a) libera...  \n",
       "...                                                 ...  \n",
       "1257  The news article is related to STEM (Science, ...  \n",
       "1258  The news article is related to STEM (Science, ...  \n",
       "1259  Based on the text of the news article provided...  \n",
       "1260  The news article is about the zika virus outbr...  \n",
       "1261  The news article is about the success of the z...  \n",
       "\n",
       "[1262 rows x 2 columns]"
      ]
     },
     "metadata": {},
     "output_type": "display_data"
    }
   ],
   "source": [
    "df = pd.read_csv('data/extracted_topics_redone.csv')\n",
    "display(df)"
   ]
  },
  {
   "cell_type": "code",
   "execution_count": 22,
   "metadata": {},
   "outputs": [],
   "source": [
    "num_liberal_arts = 0\n",
    "num_STEM = 0\n",
    "\n",
    "for index, row in df.iterrows():\n",
    "    topic = None\n",
    "    if \"(c)\" in row[\"topic\"]:\n",
    "        continue\n",
    "    elif \"(a)\" in row[\"topic\"]:\n",
    "        num_liberal_arts += 1\n",
    "        topic = \"liberal arts\"\n",
    "        liberal_arts_articles.update({row[\"news_article\"]: topic})\n",
    "    elif \"(b)\" in row[\"topic\"]:\n",
    "        num_STEM += 1\n",
    "        topic = \"STEM\"\n",
    "        stem_articles.update({row[\"news_article\"]: topic})\n",
    "    if topic is not None:\n",
    "        topics_cleaned.update({row[\"news_article\"]: topic})"
   ]
  },
  {
   "cell_type": "code",
   "execution_count": 23,
   "metadata": {},
   "outputs": [
    {
     "name": "stdout",
     "output_type": "stream",
     "text": [
      "822\n",
      "108\n",
      "714\n"
     ]
    }
   ],
   "source": [
    "print(len(topics_cleaned))\n",
    "print(num_liberal_arts)\n",
    "print(num_STEM)"
   ]
  },
  {
   "cell_type": "code",
   "execution_count": 24,
   "metadata": {},
   "outputs": [],
   "source": [
    "import csv\n",
    "with open('data/extracted_topics_redone_clean.csv', 'w') as csv_file:  \n",
    "    writer = csv.writer(csv_file)\n",
    "    for key, value in topics_cleaned.items():\n",
    "       writer.writerow([key, value])\n",
    "\n",
    "with open('data/stem_redone_clean.csv', 'w') as csv_file:  \n",
    "    writer = csv.writer(csv_file)\n",
    "    for key, value in stem_articles.items():\n",
    "       writer.writerow([key, value])\n",
    "\n",
    "with open('data/liberal_arts_redone_clean.csv', 'w') as csv_file:  \n",
    "    writer = csv.writer(csv_file)\n",
    "    for key, value in liberal_arts_articles.items():\n",
    "       writer.writerow([key, value])"
   ]
  }
 ],
 "metadata": {
  "kernelspec": {
   "display_name": "Python 3",
   "language": "python",
   "name": "python3"
  },
  "language_info": {
   "codemirror_mode": {
    "name": "ipython",
    "version": 3
   },
   "file_extension": ".py",
   "mimetype": "text/x-python",
   "name": "python",
   "nbconvert_exporter": "python",
   "pygments_lexer": "ipython3",
   "version": "3.10.11"
  }
 },
 "nbformat": 4,
 "nbformat_minor": 2
}
