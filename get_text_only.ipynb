{
 "cells": [
  {
   "cell_type": "code",
   "execution_count": 19,
   "metadata": {},
   "outputs": [],
   "source": [
    "import os\n",
    "import shutil\n",
    "# root = \"data/textfiles/\"\n",
    "root = \"data/textfiles_redone/\""
   ]
  },
  {
   "cell_type": "code",
   "execution_count": 20,
   "metadata": {},
   "outputs": [],
   "source": [
    "# text_files = os.listdir(\"data/textfiles\")\n",
    "text_files = os.listdir(\"data/textfiles_redone\")\n",
    "\n",
    "for textfile in text_files:\n",
    "    innerfile = os.listdir(root + textfile)\n",
    "    for inner in innerfile:\n",
    "        scraped_files = os.listdir(root + textfile + \"/\" + inner)\n",
    "        for scraped_file in scraped_files:\n",
    "            if \".json\" in scraped_file:\n",
    "                shutil.copy(root + textfile + \"/\" + inner + \"/\" + scraped_file, root + textfile + \"/\" + textfile + \".json\")"
   ]
  }
 ],
 "metadata": {
  "kernelspec": {
   "display_name": "Python 3",
   "language": "python",
   "name": "python3"
  },
  "language_info": {
   "codemirror_mode": {
    "name": "ipython",
    "version": 3
   },
   "file_extension": ".py",
   "mimetype": "text/x-python",
   "name": "python",
   "nbconvert_exporter": "python",
   "pygments_lexer": "ipython3",
   "version": "3.10.11"
  }
 },
 "nbformat": 4,
 "nbformat_minor": 2
}
